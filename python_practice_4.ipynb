{
 "nbformat": 4,
 "nbformat_minor": 0,
 "metadata": {
  "colab": {
   "provenance": []
  },
  "kernelspec": {
   "name": "python3",
   "display_name": "Python 3"
  },
  "language_info": {
   "name": "python"
  }
 },
 "cells": [
  {
   "cell_type": "markdown",
   "source": [
    "# I. Functions. Arguments."
   ],
   "metadata": {
    "id": "kXpppdVm6wFy"
   }
  },
  {
   "cell_type": "markdown",
   "source": [
    "1. (5б) Назвіть основні 4 смислові  частини, з яких складається функція."
   ],
   "metadata": {
    "id": "u_krJdlbAkVz"
   }
  },
  {
   "cell_type": "markdown",
   "source": [
    "- Назва функції\n",
    "- Аргументи функції\n",
    "- Тіло функції\n",
    "- Те, що функція повертає(return)"
   ],
   "metadata": {
    "id": "KKTrTXmHAptb"
   }
  },
  {
   "cell_type": "markdown",
   "source": [
    "2. (3б) Визначте функцію, що приймає 2 аргументи та повертає результат ділення 1го аргумента на інший."
   ],
   "metadata": {
    "id": "ORM4PqJQAtDM"
   }
  },
  {
   "cell_type": "code",
   "execution_count": 65,
   "metadata": {
    "id": "EuDx-z8M6sLo"
   },
   "outputs": [],
   "source": [
    "def division(a, b):\n",
    "    if b:\n",
    "        return a / b\n",
    "    else:\n",
    "        return \"Division by 0\""
   ]
  },
  {
   "cell_type": "markdown",
   "source": [
    "3. (2б) Викличте вище визначену функцію, де другий аргумент дорівнює 0."
   ],
   "metadata": {
    "id": "5joQGQ-SAyMe"
   }
  },
  {
   "cell_type": "code",
   "source": [
    "print(division(2, 0))"
   ],
   "metadata": {
    "id": "V5cBV1LOA3d-"
   },
   "execution_count": 66,
   "outputs": [
    {
     "name": "stdout",
     "output_type": "stream",
     "text": [
      "Division by 0\n"
     ]
    }
   ]
  },
  {
   "cell_type": "markdown",
   "source": [
    "4. (4б) Перевизначте функцію так, щоби у випадку ділення на 0 функція повертала None, а в решті випадків - результат розрахунків."
   ],
   "metadata": {
    "id": "QyimWgW8A43-"
   }
  },
  {
   "cell_type": "code",
   "source": [
    "def division_with_none(a, b):\n",
    "    if b:\n",
    "        return a / b\n",
    "    else:\n",
    "        return None"
   ],
   "metadata": {
    "id": "7VIODtSjA8Ek"
   },
   "execution_count": 67,
   "outputs": []
  },
  {
   "cell_type": "markdown",
   "source": [
    "5. (5б) Визначте функцію, що віднімає одне число від іншого (підказка: це буде 2 аргументи функції). При чому, якщо не визначити, скільки саме має бути віднято від числа, за замовчуванням має відніматися 1. Викличте функцію, передаючи тільки один аргумент."
   ],
   "metadata": {
    "id": "Y8mN0GfkA81l"
   }
  },
  {
   "cell_type": "code",
   "source": [
    "def minus(a, b = 1):\n",
    "    return a-b\n",
    "\n",
    "print(\"Minus function: \", minus(3))"
   ],
   "metadata": {
    "id": "vg1kxkdgBA50"
   },
   "execution_count": 68,
   "outputs": [
    {
     "name": "stdout",
     "output_type": "stream",
     "text": [
      "Minus function:  2\n"
     ]
    }
   ]
  },
  {
   "cell_type": "markdown",
   "source": [
    "6. (7б) Визначте функцію, яка приймає iterable (ітерабельний обʼєкт, напр. список), що складається з 7ми рядкових значень - назв погодних умов (напр. \"sunny\") за кожен день у тижні. Повертає функція словник, де ключами є рядки з погодними умовами, а значеннями - кількість разів, скільки дана погода була протягом тижня (напр. {'sunny': 1, ...}). Викличте цю функцію та виведіть результат її роботи на екран."
   ],
   "metadata": {
    "id": "D3mwQGNOBBs4"
   }
  },
  {
   "cell_type": "code",
   "source": [
    "def weather_count(weather):\n",
    "    dictionary = dict()\n",
    "    for day in weather:\n",
    "        dictionary[day] =  dictionary[day] + 1 if day in dictionary else 1\n",
    "    return dictionary\n",
    "\n",
    "weather_state = [\"sunny\", \"cloudy\", \"sunny\", \"rainy\", \"rainy\", \"rainy\", \"snowy\", \"sunny\"]\n",
    "print(\"Weather counter: \", weather_count(weather_state))"
   ],
   "metadata": {
    "id": "OsWm-hKcBFyn"
   },
   "execution_count": 69,
   "outputs": [
    {
     "name": "stdout",
     "output_type": "stream",
     "text": [
      "Weather counter:  {'sunny': 3, 'cloudy': 1, 'rainy': 3, 'snowy': 1}\n"
     ]
    }
   ]
  },
  {
   "cell_type": "markdown",
   "source": [
    "7. (15б) Напишіть програму, яка б шукала необхідне число у впорядкованому списку цілочислених значень, де\n",
    "число має вводитись з консолі.\n",
    "власне алгоритм пошуку винесений в окрему функцію, яка повертає булеве значення (знайдено число - True, не знайдено - False).\n",
    "в залежності від результату функції, виведіть на екран повідомлення про успішний або ж неуспішний пошук.\n",
    "Зауваження: використовувати оператор in заборонено."
   ],
   "metadata": {
    "id": "RMiCcdOsBKQT"
   }
  },
  {
   "cell_type": "code",
   "source": [
    "def find_number_v2(numbers, num):\n",
    "    if numbers[-1]>=num:\n",
    "        i = 0\n",
    "        while num >= numbers[i]:\n",
    "            if num == numbers[i]:\n",
    "                return True\n",
    "            else:\n",
    "                i += 1\n",
    "    return False\n",
    "\n",
    "\n",
    "def find_number(numbers):\n",
    "    num = int(input(\"Input number to find: \"))\n",
    "    print(f\"Number {num} was found\" if find_number_v2(numbers, num) else f\"Number {num} was not found\")\n",
    "\n",
    "nums = [1, 2, 3, 4, 5, 10, 11, 12]\n",
    "find_number(nums)"
   ],
   "metadata": {
    "id": "UNCZg65OBOy-"
   },
   "execution_count": 71,
   "outputs": [
    {
     "name": "stdout",
     "output_type": "stream",
     "text": [
      "Number 10 was found\n"
     ]
    }
   ]
  },
  {
   "cell_type": "markdown",
   "source": [
    "# II. Lambda functions."
   ],
   "metadata": {
    "id": "Ae1n_OvLBTsy"
   }
  },
  {
   "cell_type": "markdown",
   "source": [
    "8. (4б) В яких випадках варто використовувати лямбда-функції?"
   ],
   "metadata": {
    "id": "xaD_wSlaCWen"
   }
  },
  {
   "cell_type": "markdown",
   "source": [
    "Коли в нас є невелика функція, яку ми використаємо один раз в одному рядку"
   ],
   "metadata": {
    "id": "42MB6OoLCakR"
   }
  },
  {
   "cell_type": "markdown",
   "source": [
    "9. (9б) Визначте список з рядками. Після цього визначте анонімну функцію для отримання першого символу у верхньому регістрі для кожного рядка списку.\n",
    "Підказка: використовуйте анонімну функцію в якості агрумента до вбудованої ф-ції, яка створена для застосування функцій над iterable обʼєктами. Результат виведіть на екран у вигляді кортежу."
   ],
   "metadata": {
    "id": "USrzrk7GCedk"
   }
  },
  {
   "cell_type": "code",
   "source": [
    "list_strings = [\"one\", \"two\", \"three\"]\n",
    "\n",
    "print(tuple(map(lambda word: word[0].upper(), list_strings)))"
   ],
   "metadata": {
    "id": "M8QWUsMlCjWH"
   },
   "execution_count": 75,
   "outputs": [
    {
     "name": "stdout",
     "output_type": "stream",
     "text": [
      "('O', 'T', 'T')\n"
     ]
    }
   ]
  },
  {
   "cell_type": "markdown",
   "source": [
    "10. (10б) Визначте список з числовими значеннями (і цілими, і з рухомою комою). а) Відфільтруйте всі числа, які діляться націло на 3 за допомогою вбудованої функції та анонімної функції в якості аргумента). Збережіть результат у змінній, не приводяти явно до будь-якого типу. б) Використовуючи результат на кроці 12.а у якості аргументу, та за допомогою лямбда-функції в якості іншого аргументу до вбудованої функції, додайте до кожного елементу число 1 та опісля зведіть у квадрат. Остаточний результат приведіть явно до списку та виведіть на екран."
   ],
   "metadata": {
    "id": "9fyUhXOoCtGp"
   }
  },
  {
   "cell_type": "code",
   "source": [
    "list_numbers = [4, 8, 3.5, -1, 555, 321, 4.895, -31.543]\n",
    "\n",
    "filtered_by_three = filter(lambda x: x%3==0, list_numbers)\n",
    "\n",
    "mapped = map(lambda x: (x+1)**2, filtered_by_three)\n",
    "\n",
    "print(list(mapped))"
   ],
   "metadata": {
    "id": "exEx2_okCsql"
   },
   "execution_count": 76,
   "outputs": [
    {
     "name": "stdout",
     "output_type": "stream",
     "text": [
      "[309136, 103684]\n"
     ]
    }
   ]
  },
  {
   "cell_type": "markdown",
   "source": [
    "# III. Decorators."
   ],
   "metadata": {
    "id": "o_x8cG_WC7jp"
   }
  },
  {
   "cell_type": "markdown",
   "source": [
    "11. (11б) Визначте декоратор, який би виводив у консоль повідомлення про початок роботи і назву функції (напр. my_function._ _ name _ _), а після відпрацювання функції - повідомлення про закінчення роботи і назву функції, що задекорована."
   ],
   "metadata": {
    "id": "mhxS4-mfC8LQ"
   }
  },
  {
   "cell_type": "code",
   "source": [
    "def my_decorator(func):\n",
    "    def wrapper(*args, **kwargs):\n",
    "        print(\"Work started, function:\", func.__name__)\n",
    "        print(func(*args, **kwargs))\n",
    "        print(\"Work ended\")\n",
    "    return wrapper"
   ],
   "metadata": {
    "id": "srd1ygWjDGhO"
   },
   "execution_count": 77,
   "outputs": []
  },
  {
   "cell_type": "markdown",
   "source": [
    "12. (4б) Задекоруйте двома різними способами функції з завдання 4 та 5 декоратором із завдання 11. (**УВАГА**: не декоруйте функції двічі!)."
   ],
   "metadata": {
    "id": "rxGZwVBiDph3"
   }
  },
  {
   "cell_type": "code",
   "source": [
    "division_with_none = my_decorator(division_with_none)\n",
    "\n",
    "@my_decorator\n",
    "def minus(a, b = 1):\n",
    "    return a-b"
   ],
   "metadata": {
    "id": "06lj7eq_DwZe"
   },
   "execution_count": 78,
   "outputs": []
  },
  {
   "cell_type": "markdown",
   "source": [
    "13. (2б) Викличте одну з задекорованих функцій і виведіть її результат на екран."
   ],
   "metadata": {
    "id": "P0ep1urBDzf-"
   }
  },
  {
   "cell_type": "code",
   "source": [
    "minus(1,5)"
   ],
   "metadata": {
    "id": "1QvTw0ctD0S3"
   },
   "execution_count": 79,
   "outputs": [
    {
     "name": "stdout",
     "output_type": "stream",
     "text": [
      "Work started, function: minus\n",
      "-4\n",
      "Work ended\n"
     ]
    }
   ]
  },
  {
   "cell_type": "markdown",
   "source": [
    "# IV. Recursion."
   ],
   "metadata": {
    "id": "poECCpuoD2S9"
   }
  },
  {
   "cell_type": "markdown",
   "source": [
    "14. (4б) Назвіть дві частини функції, які є обовʼязковими для того, щоб називати її рекурсивною."
   ],
   "metadata": {
    "id": "DqkURfdsD7MY"
   }
  },
  {
   "cell_type": "markdown",
   "source": [
    "1. Умова зупину, стандартний випадок\n",
    "2. Рекурсивний виклик(ниближає програму до стандартонго випадку)"
   ],
   "metadata": {
    "id": "HYW6ttIeIQIU"
   }
  },
  {
   "cell_type": "markdown",
   "source": [
    "15. (15б) Визначте функцію, яка рекурсивно реалізовує пошук числа у послідовності Фібоначчі за її індексом (нумерація починається з нуля). Наприклад, потрібно знайти перше число у послідовності, тоді функція прийматиме 0 у якості аргумента і повертатиме 1, якщо ж знаходити третє число (індекс 2) послідовності, то функція повертатиме 2, якщо ж знаходити десяте число (індекс 9), то функція повертатиме 55."
   ],
   "metadata": {
    "id": "WYVt20UmEA35"
   }
  },
  {
   "cell_type": "code",
   "source": [
    "def fibonacci(index):\n",
    "    if index <= 1:\n",
    "        return 1\n",
    "    return fibonacci(index-1)+fibonacci(index-2)\n",
    "\n",
    "print(\"Fibonacci number: \", fibonacci(15))"
   ],
   "metadata": {
    "id": "xIMhp05AIpV_"
   },
   "execution_count": 80,
   "outputs": [
    {
     "name": "stdout",
     "output_type": "stream",
     "text": [
      "Fibonacci number:  987\n"
     ]
    }
   ]
  },
  {
   "cell_type": "markdown",
   "source": [
    "# Вітаю! Ви велика(ий) молодець, що впоралась(вся). Похваліть себе та побалуйте чимось приємним. Я Вами пишаюся."
   ],
   "metadata": {
    "id": "ytXC8n_4Ip0W"
   }
  }
 ]
}
