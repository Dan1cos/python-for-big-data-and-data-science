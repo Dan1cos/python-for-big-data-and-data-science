{
 "nbformat": 4,
 "nbformat_minor": 0,
 "metadata": {
  "colab": {
   "provenance": []
  },
  "kernelspec": {
   "name": "python3",
   "display_name": "Python 3"
  },
  "language_info": {
   "name": "python"
  }
 },
 "cells": [
  {
   "cell_type": "markdown",
   "source": [
    "# I. Змінні та памʼять."
   ],
   "metadata": {
    "id": "p9wwt0LZzNvn"
   }
  },
  {
   "cell_type": "markdown",
   "source": [
    "1. Створити змінні, що посилаються на два цілих числа, що однакові за значенням, де значення належить проміжку від -5 до 256. Перевірте, чи будуть ці змінні рівні тільки за значенням або ж ще будуть посилатися на один і той самий обʼєкт в памʼяті? Наведіть код та дайте текстову відповідь нижче."
   ],
   "metadata": {
    "id": "HTJrrm95xSV9"
   }
  },
  {
   "cell_type": "code",
   "execution_count": 6,
   "metadata": {
    "id": "TATni2vzayjG"
   },
   "outputs": [
    {
     "name": "stdout",
     "output_type": "stream",
     "text": [
      "Are equal by value:  True\n",
      "Are equal by id:  True\n"
     ]
    }
   ],
   "source": [
    "a = 10\n",
    "b = 10\n",
    "print(\"Are equal by value: \", a==b)\n",
    "print(\"Are equal by id: \", id(a)==id(b))"
   ]
  },
  {
   "cell_type": "markdown",
   "source": [
    "Рівні за значенням: так\\\n",
    "Посилаються на один і той самий обʼєкт: так"
   ],
   "metadata": {
    "id": "zfRG_o3WbRdg"
   }
  },
  {
   "cell_type": "markdown",
   "source": [
    "2. За допомогою якої функції можна перевірити належність змінної до вказаного типу даних (напр. чи змінна True посилається на значення булевого та цілочисленого типу)?"
   ],
   "metadata": {
    "id": "ISORzt6M3vAt"
   }
  },
  {
   "cell_type": "code",
   "source": [
    "isinstance(a, int)"
   ],
   "metadata": {
    "id": "9vL9CFaMbfyo"
   },
   "execution_count": 17,
   "outputs": [
    {
     "data": {
      "text/plain": "True"
     },
     "execution_count": 17,
     "metadata": {},
     "output_type": "execute_result"
    }
   ]
  },
  {
   "cell_type": "markdown",
   "source": [
    "# II. Цілі числа та числа з рухомою комою"
   ],
   "metadata": {
    "id": "tRxugKAxwYLw"
   }
  },
  {
   "cell_type": "markdown",
   "source": [
    "3. Створити дві змінні, що посилаються на будь-які ціле число та число з рухомою комою та продемонструвати такі арифметичні операції: додавання, віднімання, ділення, множення, ділення без залишку, ділення по модулю, приведення до ступеню. Всі результати операцій вивести на екран."
   ],
   "metadata": {
    "id": "NLHkgd5Gybc8"
   }
  },
  {
   "cell_type": "code",
   "source": [
    "value_int = 10\n",
    "value_float = 2.6\n",
    "print(\"Addition: \", value_int+value_float)\n",
    "print(\"Subtraction: \", value_int-value_float)\n",
    "print(\"Division: \", value_int/value_float)\n",
    "print(\"Multiplication: \", value_int*value_float)\n",
    "print(\"Floor division: \", value_int//value_float)\n",
    "print(\"Modulus: \", value_int%value_float)\n",
    "print(\"Exponentiation: \", value_int**value_float)"
   ],
   "metadata": {
    "id": "nb8u_3pjb2cA"
   },
   "execution_count": 11,
   "outputs": [
    {
     "name": "stdout",
     "output_type": "stream",
     "text": [
      "Addition:  12.6\n",
      "Subtraction:  7.4\n",
      "Division:  3.846153846153846\n",
      "Multiplication:  26.0\n",
      "Floor division:  3.0\n",
      "Modulus:  2.1999999999999997\n",
      "Exponentiation:  398.1071705534973\n"
     ]
    }
   ]
  },
  {
   "cell_type": "markdown",
   "source": [
    "4. Використовуючи змінні з вправи 3, продемонструйте механізм явного перетворення типів, де числа з рухомою комою перетворюються на цілі числа. Також визначте змінну, що посилається на значення булевого типу і спробуйте явно привести її до цілого числа."
   ],
   "metadata": {
    "id": "1kBClKgPzZnC"
   }
  },
  {
   "cell_type": "code",
   "source": [
    "print(\"Addition(int cast): \", int(value_int+value_float))\n",
    "print(\"Subtraction(int cast): \", int(value_int-value_float))\n",
    "print(\"Division(int cast): \", int(value_int/value_float))\n",
    "print(\"Multiplication(int cast): \", int(value_int*value_float))\n",
    "print(\"Floor division(int cast): \", int(value_int//value_float))\n",
    "print(\"Modulus(int cast): \", int(value_int%value_float))\n",
    "print(\"Exponentiation(int cast): \", int(value_int**value_float))\n",
    "\n",
    "value_bool = True\n",
    "print(\"Trying to cast boolean to int: \", int(value_bool))"
   ],
   "metadata": {
    "id": "TbqJbkeUcKsD"
   },
   "execution_count": 15,
   "outputs": [
    {
     "name": "stdout",
     "output_type": "stream",
     "text": [
      "Addition(int casted):  12\n",
      "Subtraction(int casted):  7\n",
      "Division(int casted):  3\n",
      "Multiplication(int casted):  26\n",
      "Floor division(int casted):  3\n",
      "Modulus(int casted):  2\n",
      "Exponentiation(int casted):  398\n",
      "Trying to cast boolean to int:  1\n"
     ]
    }
   ]
  },
  {
   "cell_type": "markdown",
   "source": [
    "# IІІ. Рядки (String)."
   ],
   "metadata": {
    "id": "EVJ7AflwxrZi"
   }
  },
  {
   "cell_type": "markdown",
   "source": [
    "5. Створити пустий рядок двома різними способами."
   ],
   "metadata": {
    "id": "_s5ECzz9zE61"
   }
  },
  {
   "cell_type": "code",
   "source": [
    "string_1 = \"\"\n",
    "string_2 = ''"
   ],
   "metadata": {
    "id": "fkZJHu9Scvc-"
   },
   "execution_count": null,
   "outputs": []
  },
  {
   "cell_type": "markdown",
   "source": [
    "6. Створити рядок з апострофом. Зробити його сирим. Вивести обидва рядка на екран."
   ],
   "metadata": {
    "id": "4Bdn9J3MzLf_"
   }
  },
  {
   "cell_type": "code",
   "source": [
    "string_ap = \"'\"\n",
    "print(string_ap)\n",
    "string_ap = r\"'\"\n",
    "print(string_ap)"
   ],
   "metadata": {
    "id": "ivji_hsmc0GH"
   },
   "execution_count": 22,
   "outputs": [
    {
     "name": "stdout",
     "output_type": "stream",
     "text": [
      "'\n",
      "'\n"
     ]
    }
   ]
  },
  {
   "cell_type": "markdown",
   "source": [
    "7. Створити змінну, що буде посилатися на Ваше прізвище латинкою. Створити форматований рядок, який буде мати вигляд \"My surname is ______\", де на місці нижніх підкреслень буде Ваше прізвище зі змінної."
   ],
   "metadata": {
    "id": "bg_d8wM4z8dS"
   }
  },
  {
   "cell_type": "code",
   "source": [
    "string_surname = \"Shakirov\"\n",
    "string_formated = f\"My surname is {string_surname}\"\n",
    "print(string_formated)"
   ],
   "metadata": {
    "id": "kuxFgpWndACq"
   },
   "execution_count": 25,
   "outputs": [
    {
     "name": "stdout",
     "output_type": "stream",
     "text": [
      "My surname is Shakirov\n"
     ]
    }
   ]
  },
  {
   "cell_type": "markdown",
   "source": [
    "8. Маючи рядок \"My dog is crazy.\" перетворити його на список [\"my\", \"dog\", \"is\", \"crazy\"]"
   ],
   "metadata": {
    "id": "1Nc6RqvQ0hxU"
   }
  },
  {
   "cell_type": "code",
   "source": [
    "string_dog = \"My dog is crazy\"\n",
    "print(\"List: \", string_dog.lower().split())"
   ],
   "metadata": {
    "id": "w1Ya4RqedUhw"
   },
   "execution_count": 32,
   "outputs": [
    {
     "name": "stdout",
     "output_type": "stream",
     "text": [
      "List:  ['my', 'dog', 'is', 'crazy']\n"
     ]
    }
   ]
  },
  {
   "cell_type": "markdown",
   "source": [
    "# IV. Робота зі списками."
   ],
   "metadata": {
    "id": "GYVqN9uP1D4n"
   }
  },
  {
   "cell_type": "markdown",
   "source": [
    "9. Створити список двома різними за синтаксисом способами. За допомогою вбудованої функції обчисліть довжину одного з них."
   ],
   "metadata": {
    "id": "7-DeDunw2sO-"
   }
  },
  {
   "cell_type": "code",
   "source": [
    "list_1 = [1,2,3]\n",
    "list_2 = list((4,5,6))\n",
    "print(\"Length of the first list: \", len(list_1))"
   ],
   "metadata": {
    "id": "zxg06Uuxdyoh"
   },
   "execution_count": 33,
   "outputs": [
    {
     "name": "stdout",
     "output_type": "stream",
     "text": [
      "Length of the first list:  3\n"
     ]
    }
   ]
  },
  {
   "cell_type": "markdown",
   "source": [
    "10. Створіть два списка та за допомогою спеціального методу додайте другий з них в якості останнього елемента першого."
   ],
   "metadata": {
    "id": "8vmGUTjL22gI"
   }
  },
  {
   "cell_type": "code",
   "source": [
    "list_special_1 = list((2,4,6))\n",
    "list_special_2 = list((1,3,5))\n",
    "list_special_1.append(list_special_2)\n",
    "print(\"Appended lists: \", list_special_1)"
   ],
   "metadata": {
    "id": "uHtjWYw7d7hm"
   },
   "execution_count": 34,
   "outputs": [
    {
     "name": "stdout",
     "output_type": "stream",
     "text": [
      "Appended lists:  [2, 4, 6, [1, 3, 5]]\n"
     ]
    }
   ]
  },
  {
   "cell_type": "markdown",
   "source": [
    "11. Створіть список, де елементами цього списку також є списки. Отримай перший елемент з останнього рядка та виведи значення на екран."
   ],
   "metadata": {
    "id": "JC3BkD-67_--"
   }
  },
  {
   "cell_type": "code",
   "source": [
    "dd_list = [[1,2,3],[4,5,6],[7,8,9]]\n",
    "print(\"First element from the last row: \", dd_list[len(dd_list)-1][0])"
   ],
   "metadata": {
    "id": "Kz2jZHsGeLlz"
   },
   "execution_count": 38,
   "outputs": [
    {
     "name": "stdout",
     "output_type": "stream",
     "text": [
      "First element from the last row:  7\n"
     ]
    }
   ]
  },
  {
   "cell_type": "markdown",
   "source": [
    "12. Створіть список з десяти елементів різного типу. Отримайте всі елементи, окрім двох перших та двох останніх та збережіть їх в новій змінній."
   ],
   "metadata": {
    "id": "JA47PKTv8zFK"
   }
  },
  {
   "cell_type": "code",
   "source": [
    "big_list = [1, \"a\", True, 'b', False, 2, 3.1, \"cd\", [1,2], (3,4)]\n",
    "new_big_list = big_list[2:-2]\n",
    "print(\"New list: \", new_big_list)"
   ],
   "metadata": {
    "id": "_rHdUR-ueP4-"
   },
   "execution_count": 39,
   "outputs": [
    {
     "name": "stdout",
     "output_type": "stream",
     "text": [
      "New list:  [True, 'b', False, 2, 3.1, 'cd']\n"
     ]
    }
   ]
  },
  {
   "cell_type": "markdown",
   "source": [
    "# V. Робота з кортежами."
   ],
   "metadata": {
    "id": "pCjR1dJb1Qbi"
   }
  },
  {
   "cell_type": "markdown",
   "source": [
    "14. Створити кортеж з один елементом."
   ],
   "metadata": {
    "id": "fAZCxAX06R_k"
   }
  },
  {
   "cell_type": "code",
   "source": [
    "tuple_1 = (1,)\n",
    "print('Tuple: ', tuple_1)"
   ],
   "metadata": {
    "id": "H7d82WkQev3e"
   },
   "execution_count": 45,
   "outputs": [
    {
     "name": "stdout",
     "output_type": "stream",
     "text": [
      "Tuple:  (1,)\n"
     ]
    }
   ]
  },
  {
   "cell_type": "markdown",
   "source": [
    "15. Порівняйте список та кортеж. Назвіть схожості та відмінності, випадки використання."
   ],
   "metadata": {
    "id": "8LCtYcmI6w1M"
   }
  },
  {
   "cell_type": "markdown",
   "source": [
    "Схожості:\\\n",
    "-Обидва використовуються для збереження колекції даних\\\n",
    "\n",
    "Відмінності:\\\n",
    "-Кортеж - immutable, його не можна змінювати, списки - можна\\\n",
    "-Операції із кортежами швидше\\\n",
    "-[] - список, (,) - кортеж\\\n",
    "\n",
    "Випадки використання:\\\n",
    "Кортежі використовують для збереження незмінної колекції даних(константи)\\\n",
    "Списки ж використовують, коли дані в колекції можуть змінюватись\\"
   ],
   "metadata": {
    "id": "fUsN1Hnue0C6"
   }
  },
  {
   "cell_type": "markdown",
   "source": [
    "16. Створіть кортеж з 11ти елементів чисел з рухомою комою та отримайте кожен парний за індексом елемент в зворотньому порядку. Наприклад, маючи (1.2, 2.3, 3.3, 4.3, 5.3, 6.3, 7.3, 8.3, 9.3, 0.3), отримати (0.3, 8.3, 6.3, 4.3, 2.3). Результат збережіть в нову змінну та виведіть на екран."
   ],
   "metadata": {
    "id": "m0xrwFijAmDD"
   }
  },
  {
   "cell_type": "code",
   "source": [
    "big_tuple = (1.1, 2.2, 3.3, 4.4, 5.5, 6.6, 7.7, 8.8, 9.9, 10.1, 11.2)\n",
    "new_big_tuple = big_tuple[::-2]\n",
    "print(\"New tuple: \", new_big_tuple)"
   ],
   "metadata": {
    "id": "p-5DAH6XfAGA"
   },
   "execution_count": 48,
   "outputs": [
    {
     "name": "stdout",
     "output_type": "stream",
     "text": [
      "New tuple:  (11.2, 9.9, 7.7, 5.5, 3.3, 1.1)\n"
     ]
    }
   ]
  },
  {
   "cell_type": "markdown",
   "source": [
    "# VI. Множини (Set)."
   ],
   "metadata": {
    "id": "rW_I9dt3x6cW"
   }
  },
  {
   "cell_type": "markdown",
   "source": [
    "17. Створити множину без елементів. Після цого за допомогою методу додайте кілька різних елементів до множини. Чи множини є змінним типом даних?"
   ],
   "metadata": {
    "id": "zNjRLHLw1Bgg"
   }
  },
  {
   "cell_type": "code",
   "source": [
    "set_1 = set()\n",
    "set_1.add(1)\n",
    "set_1.add(2)\n",
    "set_1.add(3)\n",
    "print(\"Set: \", set_1)"
   ],
   "metadata": {
    "id": "KOv7zc2Kfo4N"
   },
   "execution_count": 50,
   "outputs": [
    {
     "name": "stdout",
     "output_type": "stream",
     "text": [
      "Set:  {1, 2, 3}\n"
     ]
    }
   ]
  },
  {
   "cell_type": "markdown",
   "source": [
    "Так, множини є змінним типом данних"
   ],
   "metadata": {
    "id": "vxS6dVYiftZQ"
   }
  },
  {
   "cell_type": "markdown",
   "source": [
    "18. Створити множину, маючи список my_list = [1, 1, 2, 67, 67, 8, 9]. Пояснити, чому \"зникли\" деякі елементи."
   ],
   "metadata": {
    "id": "gHpT0Zw_1HEF"
   }
  },
  {
   "cell_type": "code",
   "source": [
    "my_list = [1, 1, 2, 67, 67, 8, 9]\n",
    "my_set = set(my_list)\n",
    "print(\"My set: \", my_set)"
   ],
   "metadata": {
    "id": "qCN4uvJ_fxmu"
   },
   "execution_count": 51,
   "outputs": [
    {
     "name": "stdout",
     "output_type": "stream",
     "text": [
      "My set:  {1, 2, 67, 8, 9}\n"
     ]
    }
   ]
  },
  {
   "cell_type": "markdown",
   "source": [
    "Вони \"зникли\"(1 та 67), бо в множинах не може бути значень, які повторюються"
   ],
   "metadata": {
    "id": "tFNc1e20fyny"
   }
  },
  {
   "cell_type": "markdown",
   "source": [
    "19. Створіть дві множини. Продемонстуйте над ними операції: обʼєднання, різниці, пересічі та симетричної різниці. Використовуйте методи, що не змінюють множини, а створюють нові."
   ],
   "metadata": {
    "id": "SRMkGizS1UwY"
   }
  },
  {
   "cell_type": "code",
   "source": [
    "set_1 = {1, 2, 3, 4}\n",
    "set_2 = {2, 4, 6, 8}\n",
    "print(\"Union\", set.union(set_1, set_2))\n",
    "print(\"Difference\", set.difference(set_1, set_2))\n",
    "print(\"Intersection\", set.intersection(set_1, set_2))\n",
    "print(\"Symmetric difference\", set.symmetric_difference(set_1, set_2))"
   ],
   "metadata": {
    "id": "h0T-VuDnf3Ri"
   },
   "execution_count": 53,
   "outputs": [
    {
     "name": "stdout",
     "output_type": "stream",
     "text": [
      "Union {1, 2, 3, 4, 6, 8}\n",
      "Difference {1, 3}\n",
      "Intersection {2, 4}\n",
      "Symmetric difference {1, 3, 6, 8}\n"
     ]
    }
   ]
  },
  {
   "cell_type": "markdown",
   "source": [
    "# VII. Словники (Dictionary)."
   ],
   "metadata": {
    "id": "kWc8gkzTx7Ea"
   }
  },
  {
   "cell_type": "markdown",
   "source": [
    "20. Створіть пустий словник. До нього додайте чотири пари елементів такі, щоб їхні ключі були різних типів. Чи може список бути ключем? Чому?"
   ],
   "metadata": {
    "id": "i5FLwj-B2ybQ"
   }
  },
  {
   "cell_type": "code",
   "source": [
    "dictionary_1 = dict()\n",
    "dictionary_1[\"a\"]  = \"string\"\n",
    "dictionary_1[1]  = \"int\"\n",
    "dictionary_1[1.1]  = \"float\"\n",
    "dictionary_1[(1,2,3)]  = \"tuple\"\n",
    "\n",
    "print(\"Dictionary: \", dictionary_1)"
   ],
   "metadata": {
    "id": "hxgv3BzrgLAV"
   },
   "execution_count": 61,
   "outputs": [
    {
     "name": "stdout",
     "output_type": "stream",
     "text": [
      "Dictionary:  {'a': 'string', 1: 'int', 1.1: 'float', (1, 2, 3): 'tuple'}\n"
     ]
    }
   ]
  },
  {
   "cell_type": "markdown",
   "source": [
    "Ні, список не може бути ключем, бо ключі повинні бути незмінними та хешованими обʼєктами"
   ],
   "metadata": {
    "id": "zwa7UVN-gR3m"
   }
  },
  {
   "cell_type": "markdown",
   "source": [
    "21. Створіть словник, де значенням в одній з пар теж буде словник, який теж має вкладений словник. Виведіть на екран значення, що міститься в словнику, що знаходиться на найнижчому рівні ієрархії вкладеності (найбільш внутрішній)."
   ],
   "metadata": {
    "id": "WM_pMlJsgoNf"
   }
  },
  {
   "cell_type": "code",
   "source": [
    "big_dictionary = {\"key1\":\"value1\", \"key2\":{\"key11\":\"value11\", \"key12\":{\"key21\":\"value21\", \"key22\":\"value22\"}}}\n",
    "print(\"Dictionary in dictionary in dictionary: \", big_dictionary[\"key2\"][\"key12\"])"
   ],
   "metadata": {
    "id": "60dlP7IHhAy4"
   },
   "execution_count": 62,
   "outputs": [
    {
     "name": "stdout",
     "output_type": "stream",
     "text": [
      "Dictionary in dictionary in dictionary:  {'key21': 'value21', 'key22': 'value22'}\n"
     ]
    }
   ]
  },
  {
   "cell_type": "markdown",
   "source": [
    "# Вітаю! Ви велика(ий) молодець, що впоралась(вся). Похваліть себе та побалуйте чимось приємним. Я Вами пишаюся."
   ],
   "metadata": {
    "id": "xOZP0hkx6cCr"
   }
  }
 ]
}
