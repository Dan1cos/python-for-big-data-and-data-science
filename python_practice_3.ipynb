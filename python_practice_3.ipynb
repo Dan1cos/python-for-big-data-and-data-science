{
 "nbformat": 4,
 "nbformat_minor": 0,
 "metadata": {
  "colab": {
   "provenance": []
  },
  "kernelspec": {
   "name": "python3",
   "display_name": "Python 3"
  },
  "language_info": {
   "name": "python"
  }
 },
 "cells": [
  {
   "cell_type": "markdown",
   "source": [
    "# I. Оператори порівняння та логічні оператори. Умови."
   ],
   "metadata": {
    "id": "qDEi2Pi-4yUC"
   }
  },
  {
   "cell_type": "markdown",
   "source": [
    "1. Створіть цілочисленну змінну зі своїм щасливим або улюбленим числом. Напишіть код, який би автоматизовував наступну задачу.\n",
    "\n",
    "Якщо число парне, помножте його на 2 та виведіть результат на екран.\n",
    "\n",
    "Але якщо число непарне, помножте його на 3 та додайте 1 і виведіть на екран."
   ],
   "metadata": {
    "id": "3v8D4Dkm43Ua"
   }
  },
  {
   "cell_type": "code",
   "execution_count": 11,
   "metadata": {
    "id": "dlVjc-Nu4bmb"
   },
   "outputs": [
    {
     "name": "stdout",
     "output_type": "stream",
     "text": [
      "16\n"
     ]
    }
   ],
   "source": [
    "fav_num = 5\n",
    "if fav_num%2==0:\n",
    "    print(fav_num*2)\n",
    "else:\n",
    "    print(fav_num*3+1)"
   ]
  },
  {
   "cell_type": "markdown",
   "source": [
    "2. Створіть змінну, що посилається на список. Якщо список пустий, додайте будь-який елемент у кінець списку. Якщо ж ні, то нічого не робіть."
   ],
   "metadata": {
    "id": "H669P0QK5BI_"
   }
  },
  {
   "cell_type": "code",
   "source": [
    "my_list = []\n",
    "if not my_list:\n",
    "    my_list.append(\"Hello\")\n",
    "print(\"List: \", my_list)"
   ],
   "metadata": {
    "id": "ecWlfra45f6E"
   },
   "execution_count": 12,
   "outputs": [
    {
     "name": "stdout",
     "output_type": "stream",
     "text": [
      "List:  ['Hello']\n"
     ]
    }
   ]
  },
  {
   "cell_type": "markdown",
   "source": [
    "3. Створіть рядок зі своїм імʼям латинкою. Напишіть код, який би автоматизовував наступну задачу.\n",
    "\n",
    "Якщо в імені є літера \"а\"\n",
    " або \"i\", Виведіть на екран повідомлення \"A or I is in the name\".\n",
    "\n",
    "\n",
    "\n",
    "Якщо в імені є літери \"o\" та \"n\", Виведіть на екран повідомлення \"O and N is in the name\".\n",
    "\n",
    "Також якщо в імені немає літери \"о\", але є \"n\", Виведіть на екран повідомлення \"Only N is in the name\".\n",
    "\n",
    "В решті випадків виведіть на екран повідомлення \"There is no N in the name, but there might be O\".\n",
    "\n",
    "Зверніть увагу, що, наприклад, для імені \"Antonina\" буде виведено два повідомлення."
   ],
   "metadata": {
    "id": "h9Y3cMUd5h85"
   }
  },
  {
   "cell_type": "code",
   "source": [
    "my_name = \"Artem\"\n",
    "name_converted = my_name.lower()\n",
    "if name_converted.find('a')!=-1 or name_converted.find('i')!=-1:\n",
    "    print(\"A or I is in the name\")\n",
    "if name_converted.find('o')!=-1 and name_converted.find('n')!=-1:\n",
    "    print(\"O and N is in the name\")\n",
    "elif name_converted.find('n')!=-1:\n",
    "    print(\"Only N is in the name\")\n",
    "else:\n",
    "    print(\"There is no N in the name, but there might be O\")"
   ],
   "metadata": {
    "id": "bUH4LUx35u52"
   },
   "execution_count": 13,
   "outputs": [
    {
     "name": "stdout",
     "output_type": "stream",
     "text": [
      "A or I is in the name\n",
      "There is no N in the name, but there might be O\n"
     ]
    }
   ]
  },
  {
   "cell_type": "markdown",
   "source": [
    "# II. Comprehensions."
   ],
   "metadata": {
    "id": "wPCXJv4354cU"
   }
  },
  {
   "cell_type": "markdown",
   "source": [
    "4. Створіть список, використовуючи if (не if-else), range та comprehension."
   ],
   "metadata": {
    "id": "jULLW5jN55Pw"
   }
  },
  {
   "cell_type": "code",
   "source": [
    "range_list = [num for num in range(10) if num%2==0]\n",
    "print(range_list)"
   ],
   "metadata": {
    "id": "mlZalnVC6W3F"
   },
   "execution_count": 14,
   "outputs": [
    {
     "name": "stdout",
     "output_type": "stream",
     "text": [
      "[0, 2, 4, 6, 8]\n"
     ]
    }
   ]
  },
  {
   "cell_type": "markdown",
   "source": [
    "5. Створіть словник, використовуючи dict comprehension, що містить if else. Коли слід використовувати comprehensions, а коли їх слід уникати?"
   ],
   "metadata": {
    "id": "LqhEQ4JW6XcC"
   }
  },
  {
   "cell_type": "code",
   "source": [
    "dict_compreh = {(str(num) if num%2==0 else str(num+10)):(num if num%2==0 else num+5) for num in range(10)}\n",
    "print(dict_compreh)"
   ],
   "metadata": {
    "id": "1yVaFbOs6hta"
   },
   "execution_count": 15,
   "outputs": [
    {
     "name": "stdout",
     "output_type": "stream",
     "text": [
      "{'0': 0, '11': 6, '2': 2, '13': 8, '4': 4, '15': 10, '6': 6, '17': 12, '8': 8, '19': 14}\n"
     ]
    }
   ]
  },
  {
   "cell_type": "markdown",
   "source": [
    "Їх слід використовувати для спрощення читабельності, коли є дуже проста операція, яку треба провести в циклі\n",
    "\n",
    "Слід уникати, коли операція є складною чи ми не плануємо використовувати списки, словники або множини"
   ],
   "metadata": {
    "id": "wbkzNhKq6hzz"
   }
  },
  {
   "cell_type": "markdown",
   "source": [
    "6. Створіть список з рядками та запишіть його у змінну. Створіть ще один список на основі попереднього, де кожен рядок буде містити тільки три перших заглавних символи. Наприклад: ['hello', 'i', 'dont', 'care'] -> ['HEL', 'I', 'DON', 'CAR']. Використання comprehensions обовʼязкове."
   ],
   "metadata": {
    "id": "ZlqB8G3G6lHP"
   }
  },
  {
   "cell_type": "code",
   "source": [
    "list_words = ['hello', 'i', 'dont', 'care']\n",
    "list_mod_words = [word[:3].upper() for word in list_words]\n",
    "print(list_mod_words)"
   ],
   "metadata": {
    "id": "nw6rz0bR60VC"
   },
   "execution_count": 16,
   "outputs": [
    {
     "name": "stdout",
     "output_type": "stream",
     "text": [
      "['HEL', 'I', 'DON', 'CAR']\n"
     ]
    }
   ]
  },
  {
   "cell_type": "markdown",
   "source": [
    "# III. Цикли."
   ],
   "metadata": {
    "id": "Tj573IAH64Fz"
   }
  },
  {
   "cell_type": "markdown",
   "source": [
    "7. Продемонструйте роботу циклу while. Не можна використовувати True для запуску циклу, щоб уникнути безкінечного циклу!"
   ],
   "metadata": {
    "id": "tN_33xdE65H5"
   }
  },
  {
   "cell_type": "code",
   "source": [
    "number = 10\n",
    "while number>0:\n",
    "    print(\"Number is: \", number)\n",
    "    number-=1"
   ],
   "metadata": {
    "id": "Kd9FO6yG63P5"
   },
   "execution_count": 17,
   "outputs": [
    {
     "name": "stdout",
     "output_type": "stream",
     "text": [
      "Number is:  10\n",
      "Number is:  9\n",
      "Number is:  8\n",
      "Number is:  7\n",
      "Number is:  6\n",
      "Number is:  5\n",
      "Number is:  4\n",
      "Number is:  3\n",
      "Number is:  2\n",
      "Number is:  1\n"
     ]
    }
   ]
  },
  {
   "cell_type": "markdown",
   "source": [
    "8. Напишіть програму, яка виведе на екран непарні числа в діапазоні від 0 до 20 включно."
   ],
   "metadata": {
    "id": "x2CmfZO-7pW0"
   }
  },
  {
   "cell_type": "code",
   "source": [
    "for i in range(21):\n",
    "    if i%2==1:\n",
    "        print(i)"
   ],
   "metadata": {
    "id": "aCSRYA6s7tkF"
   },
   "execution_count": 18,
   "outputs": [
    {
     "name": "stdout",
     "output_type": "stream",
     "text": [
      "1\n",
      "3\n",
      "5\n",
      "7\n",
      "9\n",
      "11\n",
      "13\n",
      "15\n",
      "17\n",
      "19\n"
     ]
    }
   ]
  },
  {
   "cell_type": "markdown",
   "source": [
    "9. Створіть список з елементами булевого типу або None. Використовуючи цикли, отримайте в результаті список з кортежами, де перший елемент кортежу - індекс(ціле число), а другий елемент - відповідне значення з першого списку.\n",
    "\n",
    "Наприклад, [True, True, None, False] -> [(0, True), (1, True), (2, None), (3, False)]"
   ],
   "metadata": {
    "id": "MDWNocZD7t_B"
   }
  },
  {
   "cell_type": "code",
   "source": [
    "elems_list = [True, False, None, False, True, None]\n",
    "i = 0\n",
    "tuple_list = []\n",
    "for val in elems_list:\n",
    "    tuple_list.append((i, val))\n",
    "    i+=1\n",
    "print(tuple_list)"
   ],
   "metadata": {
    "id": "0EUyjMdp7yfh"
   },
   "execution_count": 19,
   "outputs": [
    {
     "name": "stdout",
     "output_type": "stream",
     "text": [
      "[(0, True), (1, False), (2, None), (3, False), (4, True), (5, None)]\n"
     ]
    }
   ]
  },
  {
   "cell_type": "markdown",
   "source": [
    "10. Створіть словник, де ключі - назви книжок, а значення - їхня кількість у наявності в Вашій міні-бібліотеці. Бібліотека має містити щонайменше 6 книжок (6 пар значень у словнику) і щонайбільше 10 (пар значень). Використовуючи цикли, оновіть словник (не створюйте новий) так, щоби кількість книг у наявності збільшилося на 5 кожної книги. Наприклад,\n",
    "{'It': 3, 'Fault stars': 10, 'Bible': 17, 'Psychological romance': 4, 'Harry Potter': 13} -> {'It': 8, 'Fault stars': 15, 'Bible': 22, 'Psychological romance': 9, 'Harry Potter': 18}"
   ],
   "metadata": {
    "id": "-6XUqlcG7zKs"
   }
  },
  {
   "cell_type": "code",
   "source": [
    "books_dict = dict()\n",
    "books_dict['The Great Gatsby'] = 1\n",
    "books_dict['1984'] = 3\n",
    "books_dict['Pride and Prejudice'] = 5\n",
    "books_dict[\"One Flew Over the Cuckoo's Nest\"] = 2\n",
    "books_dict['The Catcher in the Rye'] = 4\n",
    "books_dict['Perfume: The Story of a Murderer'] = 10\n",
    "\n",
    "for k,v in books_dict.items():\n",
    "    books_dict[k] = v+5\n",
    "\n",
    "print(books_dict)"
   ],
   "metadata": {
    "id": "Ceoj9wwb791q"
   },
   "execution_count": 20,
   "outputs": [
    {
     "name": "stdout",
     "output_type": "stream",
     "text": [
      "{'The Great Gatsby': 6, '1984': 8, 'Pride and Prejudice': 10, \"One Flew Over the Cuckoo's Nest\": 7, 'The Catcher in the Rye': 9, 'Perfume: The Story of a Murderer': 15}\n"
     ]
    }
   ]
  },
  {
   "cell_type": "markdown",
   "source": [
    "11. Визначте цілочислену змінну n, що належить проміжку від 4 до 10 включно. Використовуючи цикли, виведіть в консоль наступний патерн.\n",
    "\n",
    "#\n",
    "##\n",
    "###\n",
    "####\n",
    "\n",
    "... #*n\n"
   ],
   "metadata": {
    "id": "QLzyJM288AC7"
   }
  },
  {
   "cell_type": "code",
   "source": [
    "n = 8\n",
    "for i in range(1,n+1):\n",
    "    st = \"\"\n",
    "    for j in range(i):\n",
    "        st+=\"#\"\n",
    "    print(st)"
   ],
   "metadata": {
    "id": "KOpng87s8Duz"
   },
   "execution_count": 21,
   "outputs": [
    {
     "name": "stdout",
     "output_type": "stream",
     "text": [
      "#\n",
      "##\n",
      "###\n",
      "####\n",
      "#####\n",
      "######\n",
      "#######\n",
      "########\n"
     ]
    }
   ]
  },
  {
   "cell_type": "markdown",
   "source": [
    "12. Гра \"Нумо вгадай\".\n",
    "Розробіть просту гру, де користувач має вгадати випадкове число від 1 до 100. Для генерації випадкового числа використовуйте функцію random.randint(a, b) (тут a та b включно). Для отримання числа з консолі використовуйте функцію input(), результат якої обовʼязково явно приведіть до типу int.\n",
    "\n",
    "Підказка: використовуйте цикл while та умови if-else, щоб повідомити користувачу піказки (напр. \"Більше\", \"Менше\") поки користувач не вгадає. По завершенню виведіть кількість спроб, які знадобилися для вгадування."
   ],
   "metadata": {
    "id": "_bd-bqAT8EHn"
   }
  },
  {
   "cell_type": "code",
   "source": [
    "from random import randint\n",
    "tries = 1\n",
    "num_to_guess = randint(1, 100)\n",
    "guess = 0\n",
    "while guess!=num_to_guess:\n",
    "    guess = int(input(\"Enter a number: \"))\n",
    "    if guess<num_to_guess:\n",
    "        print(\"Number is bigger\")\n",
    "    else:\n",
    "        print(\"Number is lower\")\n",
    "    tries+=1\n",
    "print(f\"Congratulations you've won, the number was {num_to_guess}, you've taken {tries} tries to guess the number\")"
   ],
   "metadata": {
    "id": "IK9nnxFK8Hkl"
   },
   "execution_count": 23,
   "outputs": [
    {
     "name": "stdout",
     "output_type": "stream",
     "text": [
      "Number is lower\n",
      "Number is lower\n",
      "Number is bigger\n",
      "Number is bigger\n",
      "Number is bigger\n",
      "Number is lower\n",
      "Number is lower\n",
      "Number is bigger\n",
      "Number is lower\n",
      "Congratulations you've won, the number was 33, you've taken 10 tries to guess the number\n"
     ]
    }
   ]
  },
  {
   "cell_type": "markdown",
   "source": [
    "# Вітаю! Ви велика(ий) молодець, що впоралась(вся). Похваліть себе та побалуйте чимось приємним. Я Вами пишаюся."
   ],
   "metadata": {
    "id": "PXoXWb7Z8IGi"
   }
  }
 ]
}
