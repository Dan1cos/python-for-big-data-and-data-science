{
 "nbformat": 4,
 "nbformat_minor": 0,
 "metadata": {
  "colab": {
   "provenance": []
  },
  "kernelspec": {
   "name": "python3",
   "display_name": "Python 3"
  },
  "language_info": {
   "name": "python"
  }
 },
 "cells": [
  {
   "cell_type": "markdown",
   "source": [
    "# I. OOP"
   ],
   "metadata": {
    "id": "5qV_sehzFCTp"
   }
  },
  {
   "cell_type": "markdown",
   "source": [
    "1. (6б). Створіть клас Animal, додайте три атрибути, один з яких має значення за замовчуванням та два методи на свій розсуд."
   ],
   "metadata": {
    "id": "tx_U_hOALyfg"
   }
  },
  {
   "cell_type": "code",
   "source": [
    "class Animal:\n",
    "    def __init__(self, name, age, colour = \"Black\"):\n",
    "        self.name = name\n",
    "        self.age = age\n",
    "        self.colour = colour\n",
    "\n",
    "    def print_info(self):\n",
    "        print(\"Name: \", self.name, \", age: \", self.age, \", colour: \", self.colour)\n",
    "\n",
    "    def say_hi(self):\n",
    "        print(\"Hi, my name is: \", self.name)"
   ],
   "metadata": {
    "id": "-Vf895KaL88N"
   },
   "execution_count": 14,
   "outputs": []
  },
  {
   "cell_type": "markdown",
   "source": [
    "2. (2б). Створіть два обʼєкти цього класу, де один з обʼєктів створюється із дефолтним значенням атрибуту. На одному обʼєкті отримайте значення його атрибуту, а на іншому викличте один з його методів."
   ],
   "metadata": {
    "id": "X_UlOMB0L93w"
   }
  },
  {
   "cell_type": "code",
   "source": [
    "animal1 = Animal(\"Bobby\", 3,)\n",
    "animal2 = Animal(\"Rex\", 10, \"yellow\")\n",
    "\n",
    "\n",
    "print(\"Colour of animal 1: \", animal1.colour)\n",
    "animal2.print_info()"
   ],
   "metadata": {
    "id": "7gBu0ESOMCpG"
   },
   "execution_count": 15,
   "outputs": [
    {
     "name": "stdout",
     "output_type": "stream",
     "text": [
      "Colour of animal 1:  Black\n",
      "Name:  Rex , age:  10 , colour:  yellow\n"
     ]
    }
   ]
  },
  {
   "cell_type": "markdown",
   "source": [
    "3. (5б). Створіть клас, де атрибути мають різні рівні доступу. Спробуйте отримати їхні значення та опишіть результати."
   ],
   "metadata": {
    "id": "HoqSCZt1MHn5"
   }
  },
  {
   "cell_type": "code",
   "source": [
    "class ExampleAttrs:\n",
    "    def __init__(self, a, b, c):\n",
    "        self.a = a\n",
    "        self._b = b\n",
    "        self.__c = c\n",
    "\n",
    "exmpl = ExampleAttrs(\"public\", \"protected\", \"private\")\n",
    "print(\"Printing public attribute a: \", exmpl.a)\n",
    "print(\"Printing protected attribute b(still works with direct access): \", exmpl._b)\n",
    "print(\"Cannot print private attribute c directly\")"
   ],
   "metadata": {
    "id": "r9b3vJxBMSPV"
   },
   "execution_count": 16,
   "outputs": [
    {
     "name": "stdout",
     "output_type": "stream",
     "text": [
      "Printing public attribute a:  public\n",
      "Printing protected attribute b(still works with direct access):  protected\n",
      "Cannot print private attribute c directly\n"
     ]
    }
   ]
  },
  {
   "cell_type": "markdown",
   "source": [
    "4. (7б). Як ви розумієте термін self? Для чого використовується метод __init __?"
   ],
   "metadata": {
    "id": "5op2m2vgMSkZ"
   }
  },
  {
   "cell_type": "markdown",
   "source": [
    "Self - цей атрибут репрезентує сам клас(обʼєкт) для того, щоб у викликаному методі можна було працювати із методами/атрибутами цього самого обʼєкту\n",
    "\n",
    "__init__ - ініціалізатор(конструктор) класу, він потрібен для ініціалізації(конструювання, призначення) атрибутів/значень обʼєкту обраного класу відразу після його створення"
   ],
   "metadata": {
    "id": "DyiPqNRvMasx"
   }
  },
  {
   "cell_type": "markdown",
   "source": [
    "5. (9б). Створіть клас Фігура без атрибутів, з методом get_area для отримання площі фігури, що повертає 0 та __add __, який приймає self та other в якості аргументів, а повертає суму площин фігур self та other."
   ],
   "metadata": {
    "id": "-6X8EGfjMd2y"
   }
  },
  {
   "cell_type": "code",
   "source": [
    "class Figure:\n",
    "    def get_area(self):\n",
    "        return 0\n",
    "\n",
    "    def __add__(self, other):\n",
    "        return self.get_area() + other.get_area()"
   ],
   "metadata": {
    "id": "4rvO_wYUMaEr"
   },
   "execution_count": 17,
   "outputs": []
  },
  {
   "cell_type": "markdown",
   "source": [
    "6. (11б). Створіть 2 дочірніх класи від Фігури: Трикутник та Коло, які мають атрибути, необхідні для розрахунку площин. Визначте метод get_area в кожному з них так, щоби вони розраховували площу в залежності від формули для кожного типу фігури. Створіть обʼєкт класу Трикутник та обʼєкт класу Коло. Виконайте операцію суми за допомогою оператора + між ними."
   ],
   "metadata": {
    "id": "SFcKnnv5Mo_z"
   }
  },
  {
   "cell_type": "code",
   "source": [
    "import math\n",
    "\n",
    "class Triangle(Figure):\n",
    "    def __init__(self, a, b, c):\n",
    "        if a > 0 and b > 0 and c > 0 and a + b > c and a + c > b and b + c > a:\n",
    "            self.a = a\n",
    "            self.b = b\n",
    "            self.c = c\n",
    "        else:\n",
    "            raise Exception(\"Cannot create a triangle with these parameters\")\n",
    "\n",
    "    def get_area(self):\n",
    "        s = (self.a + self.b + self.c) / 2\n",
    "        return math.sqrt(s * (s - self.a ) * (s - self.b ) * (s - self.c))\n",
    "\n",
    "class Circle(Figure):\n",
    "    def __init__(self, r):\n",
    "        self.r = r\n",
    "\n",
    "    def get_area(self):\n",
    "        return math.pi * self.r**2\n",
    "\n",
    "triangle1 = Triangle(3, 4, 5)\n",
    "circle1 = Circle(2)\n",
    "\n",
    "print(\"Sum of areas of triangle1 and circle1: \", triangle1 + circle1)"
   ],
   "metadata": {
    "id": "H3GVNr69Muf3"
   },
   "execution_count": 18,
   "outputs": [
    {
     "name": "stdout",
     "output_type": "stream",
     "text": [
      "Sum of areas of triangle1 and circle1:  18.566370614359172\n"
     ]
    }
   ]
  },
  {
   "cell_type": "markdown",
   "source": [
    "7. (3б). Продемонструйте різницю між isinstance та issubclass."
   ],
   "metadata": {
    "id": "HCvR206YMvLK"
   }
  },
  {
   "cell_type": "code",
   "source": [
    "print(\"Isinstance: \", isinstance(circle1, Figure)) #used to check if created object is instance/subclass of an class(was created from this class)\n",
    "print(\"Issubclass: \", issubclass(Circle, Figure)) #used to check if class is subclass of a class"
   ],
   "metadata": {
    "id": "L_V1bBvDM0GN"
   },
   "execution_count": 19,
   "outputs": [
    {
     "name": "stdout",
     "output_type": "stream",
     "text": [
      "Isinstance:  True\n",
      "Issubclass:  True\n"
     ]
    }
   ]
  },
  {
   "cell_type": "markdown",
   "source": [
    "8. (13б). Створіть клас BankAccount з приватними атрибутами balance та account_number. Реалізуйте методи поповнення та зняття коштів, забезпечивши належну інкапсуляцію. Підказка: використовуйте декоратори property та setter."
   ],
   "metadata": {
    "id": "jjsaBZ-iM0Qq"
   }
  },
  {
   "cell_type": "code",
   "source": [
    "class BankAccount:\n",
    "    def __init__(self, account_number, balance):\n",
    "        self.__account_number = account_number\n",
    "        self.__balance = balance\n",
    "\n",
    "    @property\n",
    "    def account_number(self):\n",
    "        return self.__account_number\n",
    "\n",
    "    @account_number.setter\n",
    "    def account_number(self, value):\n",
    "        self.__account_number = value\n",
    "\n",
    "    @property\n",
    "    def balance(self):\n",
    "        return self.__balance\n",
    "\n",
    "    @balance.setter\n",
    "    def balance(self, value):\n",
    "        self.__balance = value\n",
    "\n",
    "    def withdraw(self, amount):\n",
    "        if 0 < amount <= self.balance:\n",
    "            self.balance -= amount\n",
    "            print(amount, \" withdrawn from the account \", self.account_number)\n",
    "        else:\n",
    "            print(\"Insufficient balance or amount is below 0\")\n",
    "\n",
    "    def deposit(self, amount):\n",
    "        if amount > 0:\n",
    "            self.balance += amount\n",
    "            print(amount, \" deposited to the account \", self.account_number)\n",
    "        else:\n",
    "            print(\"Amount is below 0\")\n",
    "\n",
    "\n",
    "bankAccount1 = BankAccount(\"00000000\", 100)\n",
    "print(\"Balance: \", bankAccount1.balance)\n",
    "bankAccount1.withdraw(50)\n",
    "bankAccount1.withdraw(51)\n",
    "bankAccount1.deposit(500)\n",
    "print(\"Balance: \", bankAccount1.balance)"
   ],
   "metadata": {
    "id": "xCvZ7lh8M7YA"
   },
   "execution_count": 20,
   "outputs": [
    {
     "name": "stdout",
     "output_type": "stream",
     "text": [
      "Balance:  100\n",
      "50  withdrawn from the account  00000000\n",
      "Insufficient balance or amount is below 0\n",
      "500  deposited to the account  00000000\n",
      "Balance:  550\n"
     ]
    }
   ]
  },
  {
   "cell_type": "markdown",
   "source": [
    "9. (11б). Створіть клас Library, який містить список об'єктів типу Book. Реалізуйте методи для додавання книги, видалення книги та відображення списку книг."
   ],
   "metadata": {
    "id": "tIzL2SJTM8ft"
   }
  },
  {
   "cell_type": "code",
   "source": [
    "class Library:\n",
    "    def __init__(self, book_list):\n",
    "        self.__book_list = book_list\n",
    "\n",
    "    @property\n",
    "    def book_list(self):\n",
    "        return self.__book_list\n",
    "\n",
    "    @book_list.setter\n",
    "    def book_list(self, value):\n",
    "        self.__book_list = value\n",
    "\n",
    "    def add(self, book):\n",
    "        self.book_list.append(book)\n",
    "\n",
    "    def remove(self, index):\n",
    "        if len(self.book_list) > index >= 0:\n",
    "            self.book_list.pop(index)\n",
    "        else:\n",
    "            print(\"Index is below 0 or out of range\")\n",
    "\n",
    "    def print(self):\n",
    "        print(\"Library:\")\n",
    "        for book in self.book_list:\n",
    "            print(book)\n",
    "        print('\\n')\n",
    "\n",
    "class Book:\n",
    "    def __init__(self, name):\n",
    "        self.__name = name\n",
    "\n",
    "    @property\n",
    "    def name(self):\n",
    "        return self.__name\n",
    "\n",
    "    @name.setter\n",
    "    def name(self, value):\n",
    "        self.__name = value\n",
    "\n",
    "    def __str__(self):\n",
    "        return self.name\n",
    "\n",
    "\n",
    "books = [Book(\"Book1\"), Book(\"Book2\"), Book(\"Book3\")]\n",
    "library1 = Library(books)\n",
    "library1.print()\n",
    "\n",
    "library1.remove(1)\n",
    "print(\"Removed book with index 1\")\n",
    "library1.print()\n",
    "\n",
    "library1.add(Book(\"Book4\"))\n",
    "print(\"Added new book\")\n",
    "library1.print()"
   ],
   "metadata": {
    "id": "HWxfJKLtNAUZ"
   },
   "execution_count": 21,
   "outputs": [
    {
     "name": "stdout",
     "output_type": "stream",
     "text": [
      "Library:\n",
      "Book1\n",
      "Book2\n",
      "Book3\n",
      "\n",
      "\n",
      "Removed book with index 1\n",
      "Library:\n",
      "Book1\n",
      "Book3\n",
      "\n",
      "\n",
      "Added new book\n",
      "Library:\n",
      "Book1\n",
      "Book3\n",
      "Book4\n",
      "\n",
      "\n"
     ]
    }
   ]
  },
  {
   "cell_type": "markdown",
   "source": [
    "10. (13б). Створіть клас Person з атрибутами name та age. Створіть ще один клас Employee з такими атрибутами, як department та salary. Створіть клас Manager, який успадковує обидва класи Person та Employee. Продемонструйте використання множинної спадковості, створивши обʼєкт класу Manager та отримавши mro для цього класу."
   ],
   "metadata": {
    "id": "lmV8pAwwNIqu"
   }
  },
  {
   "cell_type": "code",
   "source": [
    "class Person:\n",
    "    def __init__(self, name, age):\n",
    "        self.name = name\n",
    "        self.age = age\n",
    "\n",
    "class Employee:\n",
    "    def __init__(self, department, salary):\n",
    "        self.department = department\n",
    "        self.salary = salary\n",
    "\n",
    "class Manager(Person, Employee):\n",
    "    def __init__(self, name, age, department, salary):\n",
    "        Person.__init__(self, name, age)\n",
    "        Employee.__init__(self, department, salary)\n",
    "\n",
    "    def print_info(self):\n",
    "        print(\"Name: \", self.name, \", age: \", self.age, \", department: \", self.department, \", salary: \", self.salary)\n",
    "\n",
    "manager1 = Manager(\"Artem\", 20, \"IT\", 0)\n",
    "manager1.print_info()\n",
    "print(Manager.mro())"
   ],
   "metadata": {
    "id": "R49grKlWNPeN"
   },
   "execution_count": 22,
   "outputs": [
    {
     "name": "stdout",
     "output_type": "stream",
     "text": [
      "Name:  Artem , age:  20 , department:  IT , salary:  0\n",
      "[<class '__main__.Manager'>, <class '__main__.Person'>, <class '__main__.Employee'>, <class 'object'>]\n"
     ]
    }
   ]
  },
  {
   "cell_type": "markdown",
   "source": [
    "# II. Iterator"
   ],
   "metadata": {
    "id": "dIJyUiNBFG8G"
   }
  },
  {
   "cell_type": "markdown",
   "source": [
    "11. (4б). Визначте рядок(str) з 4ма різними за значенням символами. Створіть ітератор на основі цього рядка. Викличте 5 разів функцію next на ітераторі, 4ри перших з них огорніть у ф-цію print()."
   ],
   "metadata": {
    "id": "13vsm0NyKIzL"
   }
  },
  {
   "cell_type": "code",
   "source": [
    "random_string = \"abcd\"\n",
    "random_string_iter = iter(random_string)\n",
    "for i in range(4):\n",
    "    print(next(random_string_iter))\n",
    "next(random_string_iter)"
   ],
   "metadata": {
    "id": "81ntabAkKuz-"
   },
   "execution_count": 23,
   "outputs": [
    {
     "name": "stdout",
     "output_type": "stream",
     "text": [
      "a\n",
      "b\n",
      "c\n",
      "d\n"
     ]
    },
    {
     "ename": "StopIteration",
     "evalue": "",
     "output_type": "error",
     "traceback": [
      "\u001B[0;31m---------------------------------------------------------------------------\u001B[0m",
      "\u001B[0;31mStopIteration\u001B[0m                             Traceback (most recent call last)",
      "Cell \u001B[0;32mIn[23], line 5\u001B[0m\n\u001B[1;32m      3\u001B[0m \u001B[38;5;28;01mfor\u001B[39;00m i \u001B[38;5;129;01min\u001B[39;00m \u001B[38;5;28mrange\u001B[39m(\u001B[38;5;241m4\u001B[39m):\n\u001B[1;32m      4\u001B[0m     \u001B[38;5;28mprint\u001B[39m(\u001B[38;5;28mnext\u001B[39m(random_string_iter))\n\u001B[0;32m----> 5\u001B[0m \u001B[38;5;28;43mnext\u001B[39;49m\u001B[43m(\u001B[49m\u001B[43mrandom_string_iter\u001B[49m\u001B[43m)\u001B[49m\n",
      "\u001B[0;31mStopIteration\u001B[0m: "
     ]
    }
   ]
  },
  {
   "cell_type": "markdown",
   "source": [
    "А що якщо викликати цю ж функцію на рядку?"
   ],
   "metadata": {
    "id": "aekWHGXOLRsO"
   }
  },
  {
   "cell_type": "code",
   "source": [
    "for i in range(4):\n",
    "    print(next(random_string))\n",
    "next(random_string)"
   ],
   "metadata": {
    "id": "mxATGsErLV1i"
   },
   "execution_count": null,
   "outputs": []
  },
  {
   "cell_type": "markdown",
   "source": [
    " 12. (5б). Опишіть своїми словами в одному реченні, як ви розумієте різницю між ітерабельними обʼєктами та ітераторами (можна на прикладі)."
   ],
   "metadata": {
    "id": "XwtMEopwJ4pH"
   }
  },
  {
   "cell_type": "markdown",
   "source": [
    "Ітерабельний обʼєкт - обʼєкт, в якому може бути ітератор, ітератор - ніби посилання на один із обʼєктів в ітерабельному обʼєкті, який можна зсувати. Приклад: список - ітерабельний обʼєкт, індекс можна представити як ітератор, який може ходити по списку"
   ],
   "metadata": {
    "id": "-sHrODc3KFn8"
   }
  },
  {
   "cell_type": "markdown",
   "source": [
    "13. (11б). Створіть клас, що має визначений Iterator Protocol та при кожному виклику next повертає літери англійської абетки, поки вони не вичерпаються."
   ],
   "metadata": {
    "id": "E9qJWmNbK8Gl"
   }
  },
  {
   "cell_type": "code",
   "source": [
    "class Alphabet:\n",
    "    def __iter__(self):\n",
    "        self.i = 0\n",
    "        return self\n",
    "\n",
    "    def __next__(self):\n",
    "        if self.i < 26:\n",
    "            x = self.i\n",
    "            self.i += 1\n",
    "            return chr(x+97)\n",
    "        else:\n",
    "            raise StopIteration\n",
    "\n",
    "alphabet1 = Alphabet()\n",
    "alphabet_iter = iter(alphabet1)\n",
    "\n",
    "for i in range(27):\n",
    "    print(next(alphabet_iter))"
   ],
   "metadata": {
    "id": "cqx-g_RsLo6I"
   },
   "execution_count": null,
   "outputs": []
  },
  {
   "cell_type": "markdown",
   "source": [
    "# Вітаю! Ви велика(ий) молодець, що впоралась(вся). Похваліть себе та побалуйте чимось приємним. Я Вами пишаюся."
   ],
   "metadata": {
    "id": "Z3E3S_s1Fv7-"
   }
  }
 ]
}
